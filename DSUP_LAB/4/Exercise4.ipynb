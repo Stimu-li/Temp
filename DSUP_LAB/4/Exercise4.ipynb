{
 "cells": [
  {
   "cell_type": "markdown",
   "id": "332c2eef",
   "metadata": {},
   "source": [
    "# Experiment 4: K-Nearest Neighbors Classification\n",
    "\n",
    "## AIM:\n",
    "To implement K-Nearest Neighbours classification algorithm in Python\n",
    "\n",
    "This notebook demonstrates:\n",
    "- Data loading and preprocessing\n",
    "- Converting regression to classification problem\n",
    "- Feature scaling for KNN\n",
    "- Training and evaluating KNN classifier\n",
    "- Finding optimal K value\n",
    "- Performance evaluation with different metrics\n",
    "\n",
    "**Dataset:** California Housing Dataset (converted to classification)"
   ]
  },
  {
   "cell_type": "code",
   "execution_count": 5,
   "id": "5f98c1cd",
   "metadata": {},
   "outputs": [
    {
     "name": "stdout",
     "output_type": "stream",
     "text": [
      "Note: you may need to restart the kernel to use updated packages.\n"
     ]
    }
   ],
   "source": [
    "# Install dependencies\n",
    "%pip install -q pandas matplotlib scikit-learn numpy\n",
    "\n",
    "# Import required libraries\n",
    "import pandas as pd\n",
    "import matplotlib.pyplot as plt\n",
    "from sklearn.datasets import fetch_california_housing\n",
    "from sklearn.model_selection import train_test_split\n",
    "from sklearn.preprocessing import StandardScaler\n",
    "from sklearn.neighbors import KNeighborsClassifier\n",
    "from sklearn.metrics import f1_score, classification_report\n",
    "import numpy as np"
   ]
  },
  {
   "cell_type": "markdown",
   "id": "872c76db",
   "metadata": {},
   "source": [
    "## Data Loading and Exploration\n",
    "\n",
    "First, let's load the California Housing dataset and explore its structure."
   ]
  },
  {
   "cell_type": "code",
   "execution_count": 6,
   "id": "8c0e68a4",
   "metadata": {},
   "outputs": [],
   "source": [
    "# Uncomment the following line to download the dataset from Kaggle\n",
    "# !curl -sL -o california-housing-prices.zip https://www.kaggle.com/api/v1/datasets/download/camnugent/california-housing-prices && unzip -q california-housing-prices.zip && rm california-housing-prices.zip"
   ]
  },
  {
   "cell_type": "code",
   "execution_count": 7,
   "id": "b3584729",
   "metadata": {},
   "outputs": [
    {
     "name": "stdout",
     "output_type": "stream",
     "text": [
      "Dataset shape: (20640, 9)\n",
      "\n",
      "Dataset info:\n",
      "<class 'pandas.core.frame.DataFrame'>\n",
      "RangeIndex: 20640 entries, 0 to 20639\n",
      "Data columns (total 9 columns):\n",
      " #   Column       Non-Null Count  Dtype  \n",
      "---  ------       --------------  -----  \n",
      " 0   MedInc       20640 non-null  float64\n",
      " 1   HouseAge     20640 non-null  float64\n",
      " 2   AveRooms     20640 non-null  float64\n",
      " 3   AveBedrms    20640 non-null  float64\n",
      " 4   Population   20640 non-null  float64\n",
      " 5   AveOccup     20640 non-null  float64\n",
      " 6   Latitude     20640 non-null  float64\n",
      " 7   Longitude    20640 non-null  float64\n",
      " 8   MedHouseVal  20640 non-null  float64\n",
      "dtypes: float64(9)\n",
      "memory usage: 1.4 MB\n",
      "None\n",
      "\n",
      "First 5 rows:\n"
     ]
    },
    {
     "data": {
      "text/html": [
       "<div>\n",
       "<style scoped>\n",
       "    .dataframe tbody tr th:only-of-type {\n",
       "        vertical-align: middle;\n",
       "    }\n",
       "\n",
       "    .dataframe tbody tr th {\n",
       "        vertical-align: top;\n",
       "    }\n",
       "\n",
       "    .dataframe thead th {\n",
       "        text-align: right;\n",
       "    }\n",
       "</style>\n",
       "<table border=\"1\" class=\"dataframe\">\n",
       "  <thead>\n",
       "    <tr style=\"text-align: right;\">\n",
       "      <th></th>\n",
       "      <th>MedInc</th>\n",
       "      <th>HouseAge</th>\n",
       "      <th>AveRooms</th>\n",
       "      <th>AveBedrms</th>\n",
       "      <th>Population</th>\n",
       "      <th>AveOccup</th>\n",
       "      <th>Latitude</th>\n",
       "      <th>Longitude</th>\n",
       "      <th>MedHouseVal</th>\n",
       "    </tr>\n",
       "  </thead>\n",
       "  <tbody>\n",
       "    <tr>\n",
       "      <th>0</th>\n",
       "      <td>8.3252</td>\n",
       "      <td>41.0</td>\n",
       "      <td>6.984127</td>\n",
       "      <td>1.023810</td>\n",
       "      <td>322.0</td>\n",
       "      <td>2.555556</td>\n",
       "      <td>37.88</td>\n",
       "      <td>-122.23</td>\n",
       "      <td>4.526</td>\n",
       "    </tr>\n",
       "    <tr>\n",
       "      <th>1</th>\n",
       "      <td>8.3014</td>\n",
       "      <td>21.0</td>\n",
       "      <td>6.238137</td>\n",
       "      <td>0.971880</td>\n",
       "      <td>2401.0</td>\n",
       "      <td>2.109842</td>\n",
       "      <td>37.86</td>\n",
       "      <td>-122.22</td>\n",
       "      <td>3.585</td>\n",
       "    </tr>\n",
       "    <tr>\n",
       "      <th>2</th>\n",
       "      <td>7.2574</td>\n",
       "      <td>52.0</td>\n",
       "      <td>8.288136</td>\n",
       "      <td>1.073446</td>\n",
       "      <td>496.0</td>\n",
       "      <td>2.802260</td>\n",
       "      <td>37.85</td>\n",
       "      <td>-122.24</td>\n",
       "      <td>3.521</td>\n",
       "    </tr>\n",
       "    <tr>\n",
       "      <th>3</th>\n",
       "      <td>5.6431</td>\n",
       "      <td>52.0</td>\n",
       "      <td>5.817352</td>\n",
       "      <td>1.073059</td>\n",
       "      <td>558.0</td>\n",
       "      <td>2.547945</td>\n",
       "      <td>37.85</td>\n",
       "      <td>-122.25</td>\n",
       "      <td>3.413</td>\n",
       "    </tr>\n",
       "    <tr>\n",
       "      <th>4</th>\n",
       "      <td>3.8462</td>\n",
       "      <td>52.0</td>\n",
       "      <td>6.281853</td>\n",
       "      <td>1.081081</td>\n",
       "      <td>565.0</td>\n",
       "      <td>2.181467</td>\n",
       "      <td>37.85</td>\n",
       "      <td>-122.25</td>\n",
       "      <td>3.422</td>\n",
       "    </tr>\n",
       "  </tbody>\n",
       "</table>\n",
       "</div>"
      ],
      "text/plain": [
       "   MedInc  HouseAge  AveRooms  AveBedrms  Population  AveOccup  Latitude  \\\n",
       "0  8.3252      41.0  6.984127   1.023810       322.0  2.555556     37.88   \n",
       "1  8.3014      21.0  6.238137   0.971880      2401.0  2.109842     37.86   \n",
       "2  7.2574      52.0  8.288136   1.073446       496.0  2.802260     37.85   \n",
       "3  5.6431      52.0  5.817352   1.073059       558.0  2.547945     37.85   \n",
       "4  3.8462      52.0  6.281853   1.081081       565.0  2.181467     37.85   \n",
       "\n",
       "   Longitude  MedHouseVal  \n",
       "0    -122.23        4.526  \n",
       "1    -122.22        3.585  \n",
       "2    -122.24        3.521  \n",
       "3    -122.25        3.413  \n",
       "4    -122.25        3.422  "
      ]
     },
     "execution_count": 7,
     "metadata": {},
     "output_type": "execute_result"
    }
   ],
   "source": [
    "# Load the California Housing dataset\n",
    "california_housing = fetch_california_housing(as_frame=True)\n",
    "df = california_housing.frame\n",
    "\n",
    "print(\"Dataset shape:\", df.shape)\n",
    "print(\"\\nDataset info:\")\n",
    "print(df.info())\n",
    "print(\"\\nFirst 5 rows:\")\n",
    "df.head()"
   ]
  },
  {
   "cell_type": "markdown",
   "id": "0e465a42",
   "metadata": {},
   "source": [
    "## Data Preprocessing\n",
    "\n",
    "Convert the regression problem to a classification problem by creating categories for house values."
   ]
  },
  {
   "cell_type": "code",
   "execution_count": 8,
   "id": "8fe08359",
   "metadata": {},
   "outputs": [
    {
     "name": "stdout",
     "output_type": "stream",
     "text": [
      "Original target variable (MedHouseVal) statistics:\n",
      "count    20640.000000\n",
      "mean         2.068558\n",
      "std          1.153956\n",
      "min          0.149990\n",
      "25%          1.196000\n",
      "50%          1.797000\n",
      "75%          2.647250\n",
      "max          5.000010\n",
      "Name: MedHouseVal, dtype: float64\n",
      "\n",
      "Categorical target variable distribution:\n",
      "MedHouseValCat\n",
      "1    5162\n",
      "2    5161\n",
      "3    5157\n",
      "4    5160\n",
      "Name: count, dtype: int64\n",
      "\n",
      "Category ranges:\n",
      "Category 1: $0.15 - $1.20\n",
      "Category 2: $1.20 - $1.80\n",
      "Category 3: $1.80 - $2.65\n",
      "Category 4: $2.65 - $5.00\n"
     ]
    }
   ],
   "source": [
    "# Create categorical target variable by dividing house values into 4 quartiles\n",
    "df[\"MedHouseValCat\"] = pd.qcut(df[\"MedHouseVal\"], 4, retbins=False, labels=[1, 2, 3, 4])\n",
    "\n",
    "print(\"Original target variable (MedHouseVal) statistics:\")\n",
    "print(df[\"MedHouseVal\"].describe())\n",
    "print(\"\\nCategorical target variable distribution:\")\n",
    "print(df[\"MedHouseValCat\"].value_counts().sort_index())\n",
    "\n",
    "# Show the ranges for each category\n",
    "print(\"\\nCategory ranges:\")\n",
    "_, bins = pd.qcut(df[\"MedHouseVal\"], 4, retbins=True)\n",
    "for i, (low, high) in enumerate(zip(bins[:-1], bins[1:]), 1):\n",
    "    print(f\"Category {i}: ${low:.2f} - ${high:.2f}\")"
   ]
  },
  {
   "cell_type": "code",
   "execution_count": 9,
   "id": "7ce58642",
   "metadata": {},
   "outputs": [
    {
     "name": "stdout",
     "output_type": "stream",
     "text": [
      "Features (X) shape: (20640, 8)\n",
      "Target (y) shape: (20640,)\n",
      "\n",
      "Feature names:\n",
      "['MedInc', 'HouseAge', 'AveRooms', 'AveBedrms', 'Population', 'AveOccup', 'Latitude', 'Longitude']\n"
     ]
    }
   ],
   "source": [
    "# Separate features and target variable\n",
    "y = df['MedHouseValCat']\n",
    "X = df.drop(['MedHouseVal', 'MedHouseValCat'], axis=1)\n",
    "\n",
    "print(\"Features (X) shape:\", X.shape)\n",
    "print(\"Target (y) shape:\", y.shape)\n",
    "print(\"\\nFeature names:\")\n",
    "print(X.columns.tolist())"
   ]
  },
  {
   "cell_type": "markdown",
   "id": "ed6ba21a",
   "metadata": {},
   "source": [
    "## Train-Test Split\n",
    "\n",
    "Split the data into training and testing sets for model evaluation."
   ]
  },
  {
   "cell_type": "code",
   "execution_count": 10,
   "id": "94076841",
   "metadata": {},
   "outputs": [
    {
     "name": "stdout",
     "output_type": "stream",
     "text": [
      "Training set shapes:\n",
      "X_train: (15480, 8)\n",
      "y_train: (15480,)\n",
      "\n",
      "Testing set shapes:\n",
      "X_test: (5160, 8)\n",
      "y_test: (5160,)\n",
      "\n",
      "Target distribution in training set:\n",
      "MedHouseValCat\n",
      "1    3870\n",
      "2    3878\n",
      "3    3865\n",
      "4    3867\n",
      "Name: count, dtype: int64\n"
     ]
    }
   ],
   "source": [
    "# Split data into train and test sets\n",
    "SEED = 42\n",
    "X_train, X_test, y_train, y_test = train_test_split(X, y, test_size=0.25, random_state=SEED)\n",
    "\n",
    "print(\"Training set shapes:\")\n",
    "print(f\"X_train: {X_train.shape}\")\n",
    "print(f\"y_train: {y_train.shape}\")\n",
    "print(\"\\nTesting set shapes:\")\n",
    "print(f\"X_test: {X_test.shape}\")\n",
    "print(f\"y_test: {y_test.shape}\")\n",
    "\n",
    "print(\"\\nTarget distribution in training set:\")\n",
    "print(y_train.value_counts().sort_index())"
   ]
  },
  {
   "cell_type": "markdown",
   "id": "4340548b",
   "metadata": {},
   "source": [
    "## Feature Scaling\n",
    "\n",
    "KNN is sensitive to the scale of features, so we need to standardize the features before training."
   ]
  },
  {
   "cell_type": "code",
   "execution_count": 11,
   "id": "e7b6885d",
   "metadata": {},
   "outputs": [
    {
     "name": "stdout",
     "output_type": "stream",
     "text": [
      "Original feature ranges (before scaling):\n",
      "X_train min: -124.35\n",
      "X_train max: 35682.0\n",
      "\n",
      "Scaled feature ranges (after scaling):\n",
      "X_train_scaled min: -2.380303147226115\n",
      "X_train_scaled max: 103.73736486116488\n",
      "X_train_scaled mean: 3.648531376533008e-16\n",
      "X_train_scaled std: 1.0\n"
     ]
    }
   ],
   "source": [
    "# Feature scaling for classification\n",
    "scaler = StandardScaler()\n",
    "scaler.fit(X_train)\n",
    "\n",
    "# Transform both training and testing sets\n",
    "X_train_scaled = scaler.transform(X_train)\n",
    "X_test_scaled = scaler.transform(X_test)\n",
    "\n",
    "print(\"Original feature ranges (before scaling):\")\n",
    "print(\"X_train min:\", X_train.min().min())\n",
    "print(\"X_train max:\", X_train.max().max())\n",
    "\n",
    "print(\"\\nScaled feature ranges (after scaling):\")\n",
    "print(\"X_train_scaled min:\", X_train_scaled.min())\n",
    "print(\"X_train_scaled max:\", X_train_scaled.max())\n",
    "print(\"X_train_scaled mean:\", X_train_scaled.mean())\n",
    "print(\"X_train_scaled std:\", X_train_scaled.std())"
   ]
  },
  {
   "cell_type": "markdown",
   "id": "5e314485",
   "metadata": {},
   "source": [
    "## KNN Training and Prediction\n",
    "\n",
    "Train the K-Nearest Neighbors classifier with default parameters and evaluate its performance."
   ]
  },
  {
   "cell_type": "code",
   "execution_count": 12,
   "id": "f37c4cdd",
   "metadata": {},
   "outputs": [
    {
     "name": "stdout",
     "output_type": "stream",
     "text": [
      "KNN Classifier trained successfully!\n",
      "Default K value: 5\n",
      "Number of training samples: 15480\n",
      "Number of test samples: 5160\n"
     ]
    }
   ],
   "source": [
    "# Training KNN classifier with default parameters (k=5)\n",
    "classifier = KNeighborsClassifier()\n",
    "classifier.fit(X_train_scaled, y_train)\n",
    "\n",
    "# Make predictions\n",
    "y_pred = classifier.predict(X_test_scaled)\n",
    "\n",
    "print(\"KNN Classifier trained successfully!\")\n",
    "print(f\"Default K value: {classifier.n_neighbors}\")\n",
    "print(f\"Number of training samples: {len(X_train_scaled)}\")\n",
    "print(f\"Number of test samples: {len(X_test_scaled)}\")"
   ]
  },
  {
   "cell_type": "code",
   "execution_count": 13,
   "id": "c097aa1f",
   "metadata": {},
   "outputs": [
    {
     "name": "stdout",
     "output_type": "stream",
     "text": [
      "KNN Classifier Accuracy: 0.6192\n",
      "\n",
      "First 10 predictions vs actual values:\n",
      "Predicted: 1, Actual: 1\n",
      "Predicted: 1, Actual: 1\n",
      "Predicted: 4, Actual: 4\n",
      "Predicted: 4, Actual: 3\n",
      "Predicted: 4, Actual: 4\n",
      "Predicted: 2, Actual: 2\n",
      "Predicted: 4, Actual: 3\n",
      "Predicted: 2, Actual: 2\n",
      "Predicted: 2, Actual: 4\n",
      "Predicted: 4, Actual: 4\n"
     ]
    }
   ],
   "source": [
    "# Evaluate KNN performance\n",
    "accuracy = classifier.score(X_test_scaled, y_test)\n",
    "print(f\"KNN Classifier Accuracy: {accuracy:.4f}\")\n",
    "\n",
    "# Show first few predictions vs actual values\n",
    "print(\"\\nFirst 10 predictions vs actual values:\")\n",
    "for i in range(10):\n",
    "    print(f\"Predicted: {y_pred[i]}, Actual: {y_test.iloc[i]}\")"
   ]
  },
  {
   "cell_type": "markdown",
   "id": "170bb92c",
   "metadata": {},
   "source": [
    "## Finding Optimal K Value\n",
    "\n",
    "Test different K values to find the optimal number of neighbors for our dataset."
   ]
  },
  {
   "cell_type": "code",
   "execution_count": 14,
   "id": "cfac0519",
   "metadata": {},
   "outputs": [
    {
     "name": "stdout",
     "output_type": "stream",
     "text": [
      "Testing different K values...\n",
      "K=10, F1-Score: 0.6321\n",
      "K=20, F1-Score: 0.6280\n",
      "K=30, F1-Score: 0.6276\n",
      "\n",
      "Best K value: 15\n",
      "Best F1-Score: 0.6362\n"
     ]
    }
   ],
   "source": [
    "# Find the best K value by testing different values\n",
    "f1_scores = []\n",
    "k_values = range(1, 40)\n",
    "\n",
    "print(\"Testing different K values...\")\n",
    "for k in k_values:\n",
    "    knn = KNeighborsClassifier(n_neighbors=k)\n",
    "    knn.fit(X_train_scaled, y_train)\n",
    "    pred_k = knn.predict(X_test_scaled)\n",
    "    f1 = f1_score(y_test, pred_k, average='weighted')\n",
    "    f1_scores.append(f1)\n",
    "    \n",
    "    if k % 10 == 0:  # Print progress every 10 iterations\n",
    "        print(f\"K={k}, F1-Score: {f1:.4f}\")\n",
    "\n",
    "# Find the best K value\n",
    "best_k = k_values[np.argmax(f1_scores)]\n",
    "best_f1 = max(f1_scores)\n",
    "print(f\"\\nBest K value: {best_k}\")\n",
    "print(f\"Best F1-Score: {best_f1:.4f}\")"
   ]
  },
  {
   "cell_type": "code",
   "execution_count": 15,
   "id": "7a0e27ab",
   "metadata": {},
   "outputs": [
    {
     "data": {
      "image/png": "[encoded data removed]",
      "text/plain": [
       "<Figure size 1200x600 with 1 Axes>"
      ]
     },
     "metadata": {},
     "output_type": "display_data"
    },
    {
     "name": "stdout",
     "output_type": "stream",
     "text": [
      "The plot shows that K=15 gives the best F1-Score of 0.6362\n"
     ]
    }
   ],
   "source": [
    "# Plot F1 scores for different K values\n",
    "plt.figure(figsize=(12, 6))\n",
    "plt.plot(k_values, f1_scores, linestyle='dashed', marker='o', markersize=6, linewidth=2)\n",
    "plt.title('F1 Score vs K Value for KNN Classifier', fontsize=14)\n",
    "plt.xlabel('K Value', fontsize=12)\n",
    "plt.ylabel('F1 Score', fontsize=12)\n",
    "plt.grid(True, alpha=0.3)\n",
    "plt.axvline(x=best_k, color='red', linestyle='--', alpha=0.7, label=f'Best K = {best_k}')\n",
    "plt.legend()\n",
    "plt.tight_layout()\n",
    "plt.show()\n",
    "\n",
    "print(f\"The plot shows that K={best_k} gives the best F1-Score of {best_f1:.4f}\")"
   ]
  },
  {
   "cell_type": "markdown",
   "id": "552b32f9",
   "metadata": {},
   "source": [
    "## Final Model Evaluation\n",
    "\n",
    "Train the final KNN model with the optimal K value and generate a detailed classification report."
   ]
  },
  {
   "cell_type": "code",
   "execution_count": 16,
   "id": "4cfa82bf",
   "metadata": {},
   "outputs": [
    {
     "name": "stdout",
     "output_type": "stream",
     "text": [
      "Final KNN Classifier with K=15\n",
      "Accuracy: 0.6335\n",
      "F1-Score: 0.6362\n"
     ]
    }
   ],
   "source": [
    "# Train final classifier with optimal K value\n",
    "classifier_optimal = KNeighborsClassifier(n_neighbors=best_k)\n",
    "classifier_optimal.fit(X_train_scaled, y_train)\n",
    "y_pred_optimal = classifier_optimal.predict(X_test_scaled)\n",
    "\n",
    "print(f\"Final KNN Classifier with K={best_k}\")\n",
    "print(f\"Accuracy: {classifier_optimal.score(X_test_scaled, y_test):.4f}\")\n",
    "print(f\"F1-Score: {f1_score(y_test, y_pred_optimal, average='weighted'):.4f}\")"
   ]
  },
  {
   "cell_type": "code",
   "execution_count": 17,
   "id": "fd7d586e",
   "metadata": {},
   "outputs": [
    {
     "name": "stdout",
     "output_type": "stream",
     "text": [
      "Classification Report:\n",
      "==================================================\n",
      "              precision    recall  f1-score   support\n",
      "\n",
      "           1       0.77      0.79      0.78      1292\n",
      "           2       0.52      0.58      0.55      1283\n",
      "           3       0.51      0.53      0.52      1292\n",
      "           4       0.77      0.64      0.70      1293\n",
      "\n",
      "    accuracy                           0.63      5160\n",
      "   macro avg       0.64      0.63      0.64      5160\n",
      "weighted avg       0.64      0.63      0.64      5160\n",
      "\n"
     ]
    }
   ],
   "source": [
    "# Generate detailed classification report\n",
    "print(\"Classification Report:\")\n",
    "print(\"=\" * 50)\n",
    "print(classification_report(y_test, y_pred_optimal))"
   ]
  },
  {
   "cell_type": "markdown",
   "id": "8afbf3f7",
   "metadata": {},
   "source": [
    "## RESULT:\n",
    "\n",
    "Thus the above Python code was executed and verified successfully. We have demonstrated:\n",
    "\n",
    "### Key Implementation Steps:\n",
    "1. **Data Loading**: Loaded California Housing dataset\n",
    "2. **Data Preprocessing**: \n",
    "   - Converted continuous target to categorical (4 classes)\n",
    "   - Separated features and target variables\n",
    "3. **Data Splitting**: Split into train (75%) and test (25%) sets\n",
    "4. **Feature Scaling**: Applied StandardScaler for KNN optimization\n",
    "5. **Model Training**: Trained KNN classifier with different K values\n",
    "6. **Model Evaluation**: Used accuracy and F1-score metrics\n",
    "7. **Hyperparameter Tuning**: Found optimal K value through systematic testing\n",
    "\n",
    "### Model Performance:\n",
    "- **Default KNN (K=5)**: Baseline performance\n",
    "- **Optimal KNN**: Best performance with optimal K value\n",
    "\n",
    "### Key Insights:\n",
    "1. **Feature Scaling**: Critical for KNN performance due to distance-based calculations\n",
    "2. **K Value Selection**: Systematic testing revealed optimal K value for best performance\n",
    "3. **Classification Categories**: Successfully converted regression to 4-class classification\n",
    "4. **Model Evaluation**: Comprehensive evaluation using multiple metrics\n",
    "\n",
    "### Technical Achievements:\n",
    "- Successfully implemented KNN classification algorithm\n",
    "- Performed hyperparameter optimization\n",
    "- Generated detailed performance reports\n",
    "- Visualized performance trends across different K values"
   ]
  }
 ],
 "metadata": {
  "kernelspec": {
   "display_name": "Python 3",
   "language": "python",
   "name": "python3"
  },
  "language_info": {
   "codemirror_mode": {
    "name": "ipython",
    "version": 3
   },
   "file_extension": ".py",
   "mimetype": "text/x-python",
   "name": "python",
   "nbconvert_exporter": "python",
   "pygments_lexer": "ipython3",
   "version": "3.13.2"
  }
 },
 "nbformat": 4,
 "nbformat_minor": 5
}
