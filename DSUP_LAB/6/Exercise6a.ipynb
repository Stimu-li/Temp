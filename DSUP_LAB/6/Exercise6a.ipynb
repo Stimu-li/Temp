{
 "cells": [
  {
   "cell_type": "markdown",
   "id": "1ba5bacc",
   "metadata": {},
   "source": [
    "# Experiment 6a: Correlation Matrix\n",
    "\n",
    "## AIM:\n",
    "To find the correlation matrix\n",
    "\n",
    "This notebook demonstrates:\n",
    "- Creating datasets for correlation analysis\n",
    "- Computing correlation matrices using pandas\n",
    "- Visualizing correlation matrices with heatmaps\n",
    "- Interpreting correlation coefficients\n",
    "- Understanding relationships between variables\n",
    "\n",
    "**Key Concepts:**\n",
    "- Correlation coefficient ranges from -1 to +1\n",
    "- +1: Perfect positive correlation\n",
    "- 0: No linear correlation\n",
    "- -1: Perfect negative correlation"
   ]
  },
  {
   "cell_type": "code",
   "execution_count": 1,
   "id": "983d11fd",
   "metadata": {},
   "outputs": [
    {
     "name": "stdout",
     "output_type": "stream",
     "text": [
      "Note: you may need to restart the kernel to use updated packages.\n"
     ]
    }
   ],
   "source": [
    "# Install dependencies\n",
    "%pip install -q pandas numpy matplotlib seaborn\n",
    "\n",
    "# Import required libraries\n",
    "import pandas as pd\n",
    "import numpy as np\n",
    "import matplotlib.pyplot as plt\n",
    "import seaborn as sns\n",
    "\n",
    "# Suppress warnings\n",
    "import warnings\n",
    "warnings.filterwarnings('ignore')"
   ]
  },
  {
   "cell_type": "markdown",
   "id": "8c0bc281",
   "metadata": {},
   "source": [
    "## Basic Correlation Matrix (Original Code)\n",
    "\n",
    "Let's start with the original code example to compute a basic correlation matrix."
   ]
  },
  {
   "cell_type": "code",
   "execution_count": null,
   "id": "28e3a9a5",
   "metadata": {},
   "outputs": [
    {
     "name": "stdout",
     "output_type": "stream",
     "text": [
      "Dataframe is:\n",
      "    x   y   z\n",
      "0  45  38  10\n",
      "1  37  31  15\n",
      "2  42  26  17\n",
      "3  35  28  21\n",
      "4  39  33  12\n",
      "\n",
      "Correlation matrix is:\n",
      "          x         y         z\n",
      "x  1.000000  0.518457 -0.701886\n",
      "y  0.518457  1.000000 -0.860941\n",
      "z -0.701886 -0.860941  1.000000\n"
     ]
    }
   ],
   "source": [
    "# Original code: Basic correlation matrix calculation\n",
    "# Collect data\n",
    "data = {\n",
    "    'x': [45, 37, 42, 35, 39],\n",
    "    'y': [38, 31, 26, 28, 33],\n",
    "    'z': [10, 15, 17, 21, 12]\n",
    "}\n",
    "\n",
    "# Form dataframe\n",
    "dataframe = pd.DataFrame(data, columns=['x', 'y', 'z'])\n",
    "print(\"Dataframe is:\")\n",
    "print(dataframe)\n",
    "\n",
    "# Form correlation matrix\n",
    "matrix = dataframe.corr()\n",
    "print(\"\\nCorrelation matrix is:\")\n",
    "print(matrix.round(3))"
   ]
  }
 ],
 "metadata": {
  "kernelspec": {
   "display_name": "Python 3",
   "language": "python",
   "name": "python3"
  },
  "language_info": {
   "codemirror_mode": {
    "name": "ipython",
    "version": 3
   },
   "file_extension": ".py",
   "mimetype": "text/x-python",
   "name": "python",
   "nbconvert_exporter": "python",
   "pygments_lexer": "ipython3",
   "version": "3.13.2"
  }
 },
 "nbformat": 4,
 "nbformat_minor": 5
}
