{
 "cells": [
  {
   "cell_type": "markdown",
   "id": "3ddcf504",
   "metadata": {},
   "source": [
    "# Experiment 2: Python Program to Implement Sorting and Ranking\n",
    "\n",
    "## AIM:\n",
    "To sort and rank the data in a list in Python using pandas\n",
    "\n",
    "This notebook demonstrates:\n",
    "- Sorting Series and DataFrames by index and columns\n",
    "- Ranking data with different methods\n",
    "- Working with real-world data scenarios"
   ]
  },
  {
   "cell_type": "code",
   "execution_count": null,
   "id": "5706ce60",
   "metadata": {},
   "outputs": [],
   "source": [
    "# Install dependencies\n",
    "%pip install -q pandas numpy\n",
    "\n",
    "# Import required libraries\n",
    "import pandas as pd\n",
    "import numpy as np"
   ]
  },
  {
   "cell_type": "markdown",
   "id": "825e6ffb",
   "metadata": {},
   "source": [
    "## Sorting Operations\n",
    "\n",
    "### Sorting Series\n",
    "First, let's create a Series and demonstrate sorting by index."
   ]
  },
  {
   "cell_type": "code",
   "execution_count": 2,
   "id": "960782c8",
   "metadata": {},
   "outputs": [
    {
     "name": "stdout",
     "output_type": "stream",
     "text": [
      "Original Series:\n",
      "e    0\n",
      "d    1\n",
      "a    2\n",
      "b    3\n",
      "c    4\n",
      "dtype: int64\n",
      "\n",
      "Sorted by index:\n",
      "a    2\n",
      "b    3\n",
      "c    4\n",
      "d    1\n",
      "e    0\n",
      "dtype: int64\n"
     ]
    }
   ],
   "source": [
    "# Create a Series with unsorted index\n",
    "s = pd.Series(range(5), index=['e', 'd', 'a', 'b', 'c'])\n",
    "print(\"Original Series:\")\n",
    "print(s)\n",
    "print(\"\\nSorted by index:\")\n",
    "print(s.sort_index())"
   ]
  },
  {
   "cell_type": "markdown",
   "id": "a2ff587c",
   "metadata": {},
   "source": [
    "### Sorting DataFrames\n",
    "Now let's create a DataFrame and demonstrate sorting by both index and columns."
   ]
  },
  {
   "cell_type": "code",
   "execution_count": 3,
   "id": "765457f0",
   "metadata": {},
   "outputs": [
    {
     "name": "stdout",
     "output_type": "stream",
     "text": [
      "Original DataFrame:\n",
      "       d  a   b   c\n",
      "Two    0  1   2   3\n",
      "One    4  5   6   7\n",
      "Three  8  9  10  11\n"
     ]
    }
   ],
   "source": [
    "# Create a DataFrame with unsorted index and columns\n",
    "df = pd.DataFrame(np.arange(12).reshape(3, 4),\n",
    "                  index=['Two', 'One', 'Three'],\n",
    "                  columns=['d', 'a', 'b', 'c'])\n",
    "print(\"Original DataFrame:\")\n",
    "print(df)"
   ]
  },
  {
   "cell_type": "code",
   "execution_count": 4,
   "id": "d5eb1532",
   "metadata": {},
   "outputs": [
    {
     "name": "stdout",
     "output_type": "stream",
     "text": [
      "DataFrame sorted by index:\n",
      "       d  a   b   c\n",
      "One    4  5   6   7\n",
      "Three  8  9  10  11\n",
      "Two    0  1   2   3\n"
     ]
    }
   ],
   "source": [
    "# Sort by index (rows)\n",
    "print(\"DataFrame sorted by index:\")\n",
    "print(df.sort_index())"
   ]
  },
  {
   "cell_type": "code",
   "execution_count": 5,
   "id": "d1976b88",
   "metadata": {},
   "outputs": [
    {
     "name": "stdout",
     "output_type": "stream",
     "text": [
      "DataFrame sorted by columns:\n",
      "       a   b   c  d\n",
      "Two    1   2   3  0\n",
      "One    5   6   7  4\n",
      "Three  9  10  11  8\n"
     ]
    }
   ],
   "source": [
    "# Sort by columns\n",
    "print(\"DataFrame sorted by columns:\")\n",
    "print(df.sort_index(axis=1))"
   ]
  },
  {
   "cell_type": "markdown",
   "id": "f1cdf817",
   "metadata": {},
   "source": [
    "## Ranking Operations\n",
    "\n",
    "Now let's demonstrate ranking with a practical dataset containing student information."
   ]
  },
  {
   "cell_type": "code",
   "execution_count": 6,
   "id": "b487d30e",
   "metadata": {},
   "outputs": [
    {
     "name": "stdout",
     "output_type": "stream",
     "text": [
      "Original student dataset:\n",
      "    name  current  overall group\n",
      "0   John       92      184     A\n",
      "1   Jane       94      173     B\n",
      "2  Emily       87      184     C\n",
      "3   Lisa       82      201     A\n",
      "4   Matt       90      208     A\n",
      "5  Jenny       78      182     C\n",
      "6   Adam       84      185     B\n"
     ]
    }
   ],
   "source": [
    "# Create a student dataset\n",
    "df = pd.DataFrame({\n",
    "    \"name\": [\"John\", \"Jane\", \"Emily\", \"Lisa\", \"Matt\", \"Jenny\", \"Adam\"],\n",
    "    \"current\": [92, 94, 87, 82, 90, 78, 84],\n",
    "    \"overall\": [184, 173, 184, 201, 208, 182, 185],\n",
    "    \"group\": [\"A\", \"B\", \"C\", \"A\", \"A\", \"C\", \"B\"]\n",
    "})\n",
    "\n",
    "print(\"Original student dataset:\")\n",
    "print(df)"
   ]
  },
  {
   "cell_type": "code",
   "execution_count": 7,
   "id": "fcd16912",
   "metadata": {},
   "outputs": [
    {
     "name": "stdout",
     "output_type": "stream",
     "text": [
      "Dataset with default ranking (ascending):\n",
      "    name  current  overall group  rank_default\n",
      "0   John       92      184     A           3.5\n",
      "1   Jane       94      173     B           1.0\n",
      "2  Emily       87      184     C           3.5\n",
      "3   Lisa       82      201     A           6.0\n",
      "4   Matt       90      208     A           7.0\n",
      "5  Jenny       78      182     C           2.0\n",
      "6   Adam       84      185     B           5.0\n"
     ]
    }
   ],
   "source": [
    "# Add default ranking (ascending) based on overall scores\n",
    "df[\"rank_default\"] = df[\"overall\"].rank()\n",
    "print(\"Dataset with default ranking (ascending):\")\n",
    "print(df)"
   ]
  },
  {
   "cell_type": "code",
   "execution_count": 8,
   "id": "81efbc7f",
   "metadata": {},
   "outputs": [
    {
     "name": "stdout",
     "output_type": "stream",
     "text": [
      "Dataset with descending ranking:\n",
      "    name  current  overall group  rank_default  rank_default_desc\n",
      "0   John       92      184     A           3.5                4.5\n",
      "1   Jane       94      173     B           1.0                7.0\n",
      "2  Emily       87      184     C           3.5                4.5\n",
      "3   Lisa       82      201     A           6.0                2.0\n",
      "4   Matt       90      208     A           7.0                1.0\n",
      "5  Jenny       78      182     C           2.0                6.0\n",
      "6   Adam       84      185     B           5.0                3.0\n"
     ]
    }
   ],
   "source": [
    "# Add descending ranking (higher scores get better ranks)\n",
    "df[\"rank_default_desc\"] = df[\"overall\"].rank(ascending=False)\n",
    "print(\"Dataset with descending ranking:\")\n",
    "print(df)"
   ]
  },
  {
   "cell_type": "code",
   "execution_count": 9,
   "id": "b255a818",
   "metadata": {},
   "outputs": [
    {
     "name": "stdout",
     "output_type": "stream",
     "text": [
      "Final dataset sorted by descending rank:\n",
      "    name  current  overall group  rank_default  rank_default_desc\n",
      "0   Matt       90      208     A           7.0                1.0\n",
      "1   Lisa       82      201     A           6.0                2.0\n",
      "2   Adam       84      185     B           5.0                3.0\n",
      "3   John       92      184     A           3.5                4.5\n",
      "4  Emily       87      184     C           3.5                4.5\n",
      "5  Jenny       78      182     C           2.0                6.0\n",
      "6   Jane       94      173     B           1.0                7.0\n"
     ]
    }
   ],
   "source": [
    "# Sort the DataFrame by descending rank (best performers first)\n",
    "df = df.sort_values(by=\"rank_default_desc\", ignore_index=True)\n",
    "print(\"Final dataset sorted by descending rank:\")\n",
    "print(df)"
   ]
  },
  {
   "cell_type": "markdown",
   "id": "ffadc359",
   "metadata": {},
   "source": [
    "## RESULT:\n",
    "\n",
    "Thus the above Python code was executed and verified successfully. We have demonstrated:\n",
    "\n",
    "1. **Series Sorting**: Sorting a pandas Series by index\n",
    "2. **DataFrame Sorting**: \n",
    "   - Sorting by index (rows)\n",
    "   - Sorting by columns\n",
    "3. **Ranking Operations**:\n",
    "   - Default ranking (ascending order)\n",
    "   - Descending ranking (higher values get better ranks)\n",
    "   - Sorting data based on rank values\n",
    "\n",
    "### Key Takeaways:\n",
    "- `sort_index()` sorts by index labels\n",
    "- `sort_index(axis=1)` sorts by column labels\n",
    "- `rank()` assigns numerical ranks to values\n",
    "- `rank(ascending=False)` gives better ranks to higher values\n",
    "- `sort_values()` sorts DataFrame by column values"
   ]
  }
 ],
 "metadata": {
  "kernelspec": {
   "display_name": "Python 3",
   "language": "python",
   "name": "python3"
  },
  "language_info": {
   "codemirror_mode": {
    "name": "ipython",
    "version": 3
   },
   "file_extension": ".py",
   "mimetype": "text/x-python",
   "name": "python",
   "nbconvert_exporter": "python",
   "pygments_lexer": "ipython3",
   "version": "3.13.2"
  }
 },
 "nbformat": 4,
 "nbformat_minor": 5
}
