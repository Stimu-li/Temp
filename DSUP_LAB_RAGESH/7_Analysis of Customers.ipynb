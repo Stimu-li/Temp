{
 "cells": [
  {
   "cell_type": "code",
   "execution_count": 2,
   "id": "2ddfc960",
   "metadata": {},
   "outputs": [
    {
     "name": "stdout",
     "output_type": "stream",
     "text": [
      "Predicted vs Actual:\n",
      " [[1 1]\n",
      " [0 0]]\n",
      "\n",
      "Confusion Matrix:\n",
      " [[1 0]\n",
      " [0 1]]\n",
      "Accuracy: 1.0\n",
      "Yay! This customer can buy a product!\n"
     ]
    }
   ],
   "source": [
    "import numpy as np\n",
    "import pandas as pd\n",
    "from sklearn.model_selection import train_test_split\n",
    "from sklearn.preprocessing import StandardScaler\n",
    "from sklearn.linear_model import LogisticRegression\n",
    "from sklearn.metrics import confusion_matrix, accuracy_score\n",
    "\n",
    "# Sample dataset\n",
    "data = {\n",
    "    \"Age\": [22, 25, 47, 52, 46, 56],\n",
    "    \"EstimatedSalary\": [20000, 25000, 50000, 60000, 58000, 62000],\n",
    "    \"Purchased\": [0, 0, 1, 1, 1, 1],\n",
    "}\n",
    "df = pd.DataFrame(data)\n",
    "\n",
    "X = df[[\"Age\", \"EstimatedSalary\"]].values\n",
    "y = df[\"Purchased\"].values\n",
    "\n",
    "# Split dataset\n",
    "X_train, X_test, y_train, y_test = train_test_split(\n",
    "    X, y, test_size=0.33, random_state=1\n",
    ")\n",
    "\n",
    "# Feature scaling\n",
    "sc = StandardScaler()\n",
    "X_train = sc.fit_transform(X_train)\n",
    "X_test = sc.transform(X_test)\n",
    "\n",
    "# Train logistic regression\n",
    "classifier = LogisticRegression()\n",
    "classifier.fit(X_train, y_train)\n",
    "\n",
    "# Predict\n",
    "y_pred = classifier.predict(X_test)\n",
    "print(\"Predicted vs Actual:\\n\", np.column_stack((y_pred, y_test)))\n",
    "\n",
    "# Confusion matrix & accuracy\n",
    "cm = confusion_matrix(y_test, y_pred)\n",
    "print(\"\\nConfusion Matrix:\\n\", cm)\n",
    "print(\"Accuracy:\", accuracy_score(y_test, y_pred))\n",
    "\n",
    "# Predict new customer\n",
    "age = 30\n",
    "salary = 40000\n",
    "result = classifier.predict(sc.transform([[age, salary]]))\n",
    "if result == [1]:\n",
    "    print(\"Yay! This customer can buy a product!\")\n",
    "else:\n",
    "    print(\"Sorry! This customer won't buy the product\")"
   ]
  }
 ],
 "metadata": {
  "kernelspec": {
   "display_name": "Python 3",
   "language": "python",
   "name": "python3"
  },
  "language_info": {
   "codemirror_mode": {
    "name": "ipython",
    "version": 3
   },
   "file_extension": ".py",
   "mimetype": "text/x-python",
   "name": "python",
   "nbconvert_exporter": "python",
   "pygments_lexer": "ipython3",
   "version": "3.13.7"
  }
 },
 "nbformat": 4,
 "nbformat_minor": 5
}
