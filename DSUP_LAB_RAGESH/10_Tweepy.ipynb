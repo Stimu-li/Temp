{
 "cells": [
  {
   "cell_type": "code",
   "execution_count": null,
   "id": "82c52f09",
   "metadata": {},
   "outputs": [],
   "source": [
    "import tweepy as tw\n",
    "import pandas as pd\n",
    "\n",
    "# --- Twitter API keys ---\n",
    "consumer_key = \"YOUR_CONSUMER_KEY\"\n",
    "consumer_secret = \"YOUR_CONSUMER_SECRET\"\n",
    "access_token = \"YOUR_ACCESS_TOKEN\"\n",
    "access_token_secret = \"YOUR_ACCESS_TOKEN_SECRET\"\n",
    "\n",
    "# --- Authenticate with Twitter ---\n",
    "auth = tw.OAuthHandler(consumer_key, consumer_secret)\n",
    "auth.set_access_token(access_token, access_token_secret)\n",
    "api = tw.API(auth, wait_on_rate_limit=True)\n",
    "\n",
    "# --- Define search query ---\n",
    "search_words = \"sexual harassment workplace -filter:retweets\"\n",
    "date_since = \"2020-07-14\"\n",
    "\n",
    "# --- Collect tweets ---\n",
    "tweets = tw.Cursor(api.search, q=search_words, lang=\"en\", since=date_since).items(100)\n",
    "\n",
    "# --- Extract tweet text and user info ---\n",
    "tweet_data = [\n",
    "    [tweet.user.screen_name, tweet.user.location, tweet.text] for tweet in tweets\n",
    "]\n",
    "\n",
    "# --- Create DataFrame ---\n",
    "df_tweets = pd.DataFrame(tweet_data, columns=[\"User\", \"Location\", \"Tweet\"])\n",
    "print(df_tweets.head())"
   ]
  }
 ],
 "metadata": {
  "kernelspec": {
   "display_name": "Python 3",
   "language": "python",
   "name": "python3"
  },
  "language_info": {
   "codemirror_mode": {
    "name": "ipython",
    "version": 3
   },
   "file_extension": ".py",
   "mimetype": "text/x-python",
   "name": "python",
   "nbconvert_exporter": "python",
   "pygments_lexer": "ipython3",
   "version": "3.13.7"
  }
 },
 "nbformat": 4,
 "nbformat_minor": 5
}
