{
 "cells": [
  {
   "cell_type": "code",
   "execution_count": 3,
   "id": "6d5957f0",
   "metadata": {},
   "outputs": [
    {
     "name": "stdout",
     "output_type": "stream",
     "text": [
      "Dataset:\n",
      "   Country  Population  Area    GDP  Continent\n",
      "0   India        1400  3287   2575       Asia\n",
      "1     USA         330  9834  19485  N.America\n",
      "2   Japan         125   378   4872       Asia\n",
      "\n",
      "CSV file written successfully!\n",
      "\n",
      "Read from CSV:\n",
      "   Country  Population  Area    GDP  Continent\n",
      "0   India        1400  3287   2575       Asia\n",
      "1     USA         330  9834  19485  N.America\n",
      "2   Japan         125   378   4872       Asia\n",
      "\n",
      "Excel file written successfully!\n",
      "\n",
      "Read from Excel:\n",
      "   Country  Population  Area    GDP  Continent\n",
      "0   India        1400  3287   2575       Asia\n",
      "1     USA         330  9834  19485  N.America\n",
      "2   Japan         125   378   4872       Asia\n"
     ]
    }
   ],
   "source": [
    "# Install pandas (only once)\n",
    "# pip install pandas\n",
    "\n",
    "import pandas as pd\n",
    "\n",
    "# Create sample dataset\n",
    "data = {\n",
    "    \"Country\": [\"India\", \"USA\", \"Japan\"],\n",
    "    \"Population\": [1400, 330, 125],\n",
    "    \"Area\": [3287, 9834, 378],\n",
    "    \"GDP\": [2575, 19485, 4872],\n",
    "    \"Continent\": [\"Asia\", \"N.America\", \"Asia\"],\n",
    "}\n",
    "\n",
    "# Create DataFrame\n",
    "df = pd.DataFrame(data)\n",
    "print(\"Dataset:\\n\", df)\n",
    "\n",
    "# Write to CSV\n",
    "df.to_csv(\"data.csv\", index=False)\n",
    "print(\"\\nCSV file written successfully!\")\n",
    "\n",
    "# Read from CSV\n",
    "df_csv = pd.read_csv(\"data.csv\")\n",
    "print(\"\\nRead from CSV:\\n\", df_csv)\n",
    "\n",
    "# Write to Excel\n",
    "df.to_excel(\"data.xlsx\", index=False)\n",
    "print(\"\\nExcel file written successfully!\")\n",
    "\n",
    "# Read from Excel\n",
    "df_excel = pd.read_excel(\"data.xlsx\")\n",
    "print(\"\\nRead from Excel:\\n\", df_excel)"
   ]
  }
 ],
 "metadata": {
  "kernelspec": {
   "display_name": "Python 3",
   "language": "python",
   "name": "python3"
  },
  "language_info": {
   "codemirror_mode": {
    "name": "ipython",
    "version": 3
   },
   "file_extension": ".py",
   "mimetype": "text/x-python",
   "name": "python",
   "nbconvert_exporter": "python",
   "pygments_lexer": "ipython3",
   "version": "3.13.7"
  }
 },
 "nbformat": 4,
 "nbformat_minor": 5
}
