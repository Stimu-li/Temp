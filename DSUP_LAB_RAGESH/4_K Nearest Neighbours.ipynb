{
 "cells": [
  {
   "cell_type": "code",
   "execution_count": 1,
   "id": "867b7bbe",
   "metadata": {},
   "outputs": [
    {
     "name": "stdout",
     "output_type": "stream",
     "text": [
      "Actual: ['A', 'A', 'A']\n",
      "Predicted: ['B', 'B', 'B']\n",
      "Accuracy: 0.0\n"
     ]
    }
   ],
   "source": [
    "import pandas as pd\n",
    "from sklearn.model_selection import train_test_split\n",
    "from sklearn.preprocessing import StandardScaler\n",
    "from sklearn.neighbors import KNeighborsClassifier\n",
    "from sklearn.metrics import accuracy_score\n",
    "\n",
    "# Sample dataset\n",
    "data = {\n",
    "    \"Feature1\": [2, 4, 4, 6, 6, 8, 10, 10],\n",
    "    \"Feature2\": [4, 2, 6, 4, 8, 6, 8, 10],\n",
    "    \"Label\": [\"A\", \"A\", \"A\", \"B\", \"B\", \"B\", \"B\", \"A\"],\n",
    "}\n",
    "df = pd.DataFrame(data)\n",
    "\n",
    "# Split data\n",
    "X = df[[\"Feature1\", \"Feature2\"]]\n",
    "y = df[\"Label\"]\n",
    "X_train, X_test, y_train, y_test = train_test_split(X, y, test_size=0.3, random_state=1)\n",
    "\n",
    "# Scale features\n",
    "scaler = StandardScaler()\n",
    "X_train = scaler.fit_transform(X_train)\n",
    "X_test = scaler.transform(X_test)\n",
    "\n",
    "# Train KNN\n",
    "knn = KNeighborsClassifier(n_neighbors=3)\n",
    "knn.fit(X_train, y_train)\n",
    "\n",
    "# Predict & evaluate\n",
    "y_pred = knn.predict(X_test)\n",
    "print(\"Actual:\", list(y_test))\n",
    "print(\"Predicted:\", list(y_pred))\n",
    "print(\"Accuracy:\", accuracy_score(y_test, y_pred))"
   ]
  }
 ],
 "metadata": {
  "kernelspec": {
   "display_name": "Python 3",
   "language": "python",
   "name": "python3"
  },
  "language_info": {
   "codemirror_mode": {
    "name": "ipython",
    "version": 3
   },
   "file_extension": ".py",
   "mimetype": "text/x-python",
   "name": "python",
   "nbconvert_exporter": "python",
   "pygments_lexer": "ipython3",
   "version": "3.13.7"
  }
 },
 "nbformat": 4,
 "nbformat_minor": 5
}
