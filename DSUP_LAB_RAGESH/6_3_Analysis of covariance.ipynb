{
 "cells": [
  {
   "cell_type": "code",
   "execution_count": 1,
   "id": "44215dea",
   "metadata": {},
   "outputs": [
    {
     "name": "stdout",
     "output_type": "stream",
     "text": [
      "target\n",
      "0    3.428\n",
      "1    2.770\n",
      "2    2.974\n",
      "Name: sepalWidth, dtype: float64\n",
      "F_value = 49.160040089612075 , P_value = 4.49201713330911e-17\n",
      "****** SAMPLES HAVE DIFFERENT MEAN ******\n",
      "****** REJECT NULL HYPOTHESIS ******\n",
      "Multiple Comparison of Means - Tukey HSD, FWER=0.05 \n",
      "====================================================\n",
      "group1 group2 meandiff p-adj   lower   upper  reject\n",
      "----------------------------------------------------\n",
      "     0      1   -0.658    0.0 -0.8189 -0.4971   True\n",
      "     0      2   -0.454    0.0 -0.6149 -0.2931   True\n",
      "     1      2    0.204 0.0088  0.0431  0.3649   True\n",
      "----------------------------------------------------\n"
     ]
    }
   ],
   "source": [
    "import pandas as pd\n",
    "from sklearn.datasets import load_iris\n",
    "from scipy import stats\n",
    "from statsmodels.stats.multicomp import pairwise_tukeyhsd\n",
    "\n",
    "# Load Iris dataset\n",
    "iris = load_iris()\n",
    "df = pd.DataFrame(\n",
    "    iris.data, columns=[\"sepalLength\", \"sepalWidth\", \"petalLength\", \"petalWidth\"]\n",
    ")\n",
    "df[\"target\"] = iris.target\n",
    "\n",
    "# Display mean sepalWidth for each species\n",
    "print(df.groupby(\"target\")[\"sepalWidth\"].mean())\n",
    "\n",
    "# ANOVA test\n",
    "F_value, P_value = stats.f_oneway(\n",
    "    df[\"sepalWidth\"][df[\"target\"] == 0],\n",
    "    df[\"sepalWidth\"][df[\"target\"] == 1],\n",
    "    df[\"sepalWidth\"][df[\"target\"] == 2],\n",
    ")\n",
    "print(\"F_value =\", F_value, \", P_value =\", P_value)\n",
    "\n",
    "if F_value > 1:\n",
    "    print(\"****** SAMPLES HAVE DIFFERENT MEAN ******\")\n",
    "else:\n",
    "    print(\"****** SAMPLES HAVE EQUAL MEAN ******\")\n",
    "\n",
    "if P_value < 0.05:\n",
    "    print(\"****** REJECT NULL HYPOTHESIS ******\")\n",
    "else:\n",
    "    print(\"****** ACCEPT NULL HYPOTHESIS ******\")\n",
    "\n",
    "# Tukey HSD test for pairwise comparison\n",
    "tukey = pairwise_tukeyhsd(endog=df[\"sepalWidth\"], groups=df[\"target\"], alpha=0.05)\n",
    "print(tukey)"
   ]
  }
 ],
 "metadata": {
  "kernelspec": {
   "display_name": "Python 3",
   "language": "python",
   "name": "python3"
  },
  "language_info": {
   "codemirror_mode": {
    "name": "ipython",
    "version": 3
   },
   "file_extension": ".py",
   "mimetype": "text/x-python",
   "name": "python",
   "nbconvert_exporter": "python",
   "pygments_lexer": "ipython3",
   "version": "3.13.7"
  }
 },
 "nbformat": 4,
 "nbformat_minor": 5
}
