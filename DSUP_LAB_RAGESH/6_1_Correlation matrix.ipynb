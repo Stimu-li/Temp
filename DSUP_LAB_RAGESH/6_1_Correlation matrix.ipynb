{
 "cells": [
  {
   "cell_type": "code",
   "execution_count": 1,
   "id": "8d4fb166",
   "metadata": {},
   "outputs": [
    {
     "name": "stdout",
     "output_type": "stream",
     "text": [
      "DataFrame:\n",
      "     x   y   z\n",
      "0  45  38  10\n",
      "1  37  31  15\n",
      "2  42  26  17\n",
      "3  35  28  21\n",
      "4  39  33  12\n",
      "\n",
      "Correlation Matrix:\n",
      "           x         y         z\n",
      "x  1.000000  0.518457 -0.701886\n",
      "y  0.518457  1.000000 -0.860941\n",
      "z -0.701886 -0.860941  1.000000\n"
     ]
    }
   ],
   "source": [
    "import pandas as pd\n",
    "\n",
    "# Sample data\n",
    "data = {\"x\": [45, 37, 42, 35, 39], \"y\": [38, 31, 26, 28, 33], \"z\": [10, 15, 17, 21, 12]}\n",
    "\n",
    "df = pd.DataFrame(data)\n",
    "print(\"DataFrame:\\n\", df)\n",
    "\n",
    "# Correlation matrix\n",
    "corr_matrix = df.corr()\n",
    "print(\"\\nCorrelation Matrix:\\n\", corr_matrix)"
   ]
  }
 ],
 "metadata": {
  "kernelspec": {
   "display_name": "Python 3",
   "language": "python",
   "name": "python3"
  },
  "language_info": {
   "codemirror_mode": {
    "name": "ipython",
    "version": 3
   },
   "file_extension": ".py",
   "mimetype": "text/x-python",
   "name": "python",
   "nbconvert_exporter": "python",
   "pygments_lexer": "ipython3",
   "version": "3.13.7"
  }
 },
 "nbformat": 4,
 "nbformat_minor": 5
}
