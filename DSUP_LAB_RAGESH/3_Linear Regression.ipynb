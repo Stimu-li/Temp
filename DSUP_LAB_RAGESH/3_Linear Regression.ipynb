{
 "cells": [
  {
   "cell_type": "code",
   "execution_count": 1,
   "id": "f6810761",
   "metadata": {},
   "outputs": [
    {
     "name": "stdout",
     "output_type": "stream",
     "text": [
      "Actual: [35]\n",
      "Predicted: [np.float64(37.5)]\n"
     ]
    }
   ],
   "source": [
    "import pandas as pd\n",
    "from sklearn.model_selection import train_test_split\n",
    "from sklearn.linear_model import LinearRegression\n",
    "\n",
    "# Sample data\n",
    "data = {\n",
    "    \"RM\": [6, 7, 8, 9, 10],\n",
    "    \"LSTAT\": [5, 10, 15, 20, 25],\n",
    "    \"MEDV\": [50, 45, 35, 30, 25],\n",
    "}\n",
    "df = pd.DataFrame(data)\n",
    "\n",
    "x = df[[\"RM\", \"LSTAT\"]]\n",
    "y = df[\"MEDV\"]\n",
    "\n",
    "x_train, x_test, y_train, y_test = train_test_split(x, y, test_size=0.2, random_state=1)\n",
    "\n",
    "model = LinearRegression()\n",
    "model.fit(x_train, y_train)\n",
    "\n",
    "y_pred = model.predict(x_test)\n",
    "print(\"Actual:\", list(y_test))\n",
    "print(\"Predicted:\", list(y_pred))"
   ]
  }
 ],
 "metadata": {
  "kernelspec": {
   "display_name": "Python 3",
   "language": "python",
   "name": "python3"
  },
  "language_info": {
   "codemirror_mode": {
    "name": "ipython",
    "version": 3
   },
   "file_extension": ".py",
   "mimetype": "text/x-python",
   "name": "python",
   "nbconvert_exporter": "python",
   "pygments_lexer": "ipython3",
   "version": "3.13.7"
  }
 },
 "nbformat": 4,
 "nbformat_minor": 5
}
